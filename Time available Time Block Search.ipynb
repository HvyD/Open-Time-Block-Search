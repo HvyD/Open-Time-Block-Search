{
 "cells": [
  {
   "cell_type": "code",
   "execution_count": 1,
   "metadata": {},
   "outputs": [
    {
     "name": "stdout",
     "output_type": "stream",
     "text": [
      "2019-01-01 04:30:00 2019-01-01 04:45:00\n",
      "2019-01-01 05:00:00 2019-01-01 05:15:00\n",
      "2019-01-01 05:15:00 2019-01-01 05:30:00\n",
      "2019-01-01 05:30:00 2019-01-01 05:45:00\n",
      "2019-01-01 05:45:00 2019-01-01 06:00:00\n",
      "2019-01-01 06:00:00 2019-01-01 06:15:00\n",
      "2019-01-01 06:15:00 2019-01-01 06:30:00\n",
      "2019-01-01 06:30:00 2019-01-01 06:45:00\n"
     ]
    }
   ],
   "source": [
    "from datetime import datetime, timedelta\n",
    "\n",
    "appointments = [\n",
    "    (datetime.strptime('2019-01-01 06:45:00', '%Y-%m-%d %H:%M:%S'), datetime.strptime('2019-01-01 07:00:00', '%Y-%m-%d %H:%M:%S')),\n",
    "    (datetime.strptime('2019-01-01 01:00:00', '%Y-%m-%d %H:%M:%S'), datetime.strptime('2019-01-01 04:30:00', '%Y-%m-%d %H:%M:%S')),\n",
    "    (datetime.strptime('2019-01-01 07:10:00', '%Y-%m-%d %H:%M:%S'), datetime.strptime('2019-01-01 09:30:00', '%Y-%m-%d %H:%M:%S')),\n",
    "    (datetime.strptime('2019-01-01 04:45:00', '%Y-%m-%d %H:%M:%S'), datetime.strptime('2019-01-01 05:00:00', '%Y-%m-%d %H:%M:%S'))]\n",
    "\n",
    "\n",
    "between = (datetime.strptime('2019-01-01 06:45:00', '%Y-%m-%d %H:%M:%S'), datetime.strptime('2019-01-01 07:00:00', '%Y-%m-%d %H:%M:%S'))\n",
    "\n",
    "\n",
    "def find_opening(between, appointments, duration=timedelta(hours = .25)):\n",
    "    slots = sorted([(between[0], between[0])] + appointments + [(between[1], between[1])])\n",
    "    for start, end in ((slots[i][1], slots[i+1][0]) for i in range(len(slots)-1)):\n",
    "        while start + duration <= end:\n",
    "            print (start, start + duration)\n",
    "            start += duration\n",
    "\n",
    "find_opening(between, appointments)\n"
   ]
  },
  {
   "cell_type": "code",
   "execution_count": null,
   "metadata": {},
   "outputs": [],
   "source": []
  },
  {
   "cell_type": "code",
   "execution_count": null,
   "metadata": {},
   "outputs": [],
   "source": []
  }
 ],
 "metadata": {
  "kernelspec": {
   "display_name": "Python 3",
   "language": "python",
   "name": "python3"
  },
  "language_info": {
   "codemirror_mode": {
    "name": "ipython",
    "version": 3
   },
   "file_extension": ".py",
   "mimetype": "text/x-python",
   "name": "python",
   "nbconvert_exporter": "python",
   "pygments_lexer": "ipython3",
   "version": "3.7.3"
  }
 },
 "nbformat": 4,
 "nbformat_minor": 2
}
